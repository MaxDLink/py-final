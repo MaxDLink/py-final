{
 "cells": [
  {
   "cell_type": "code",
   "execution_count": 1,
   "id": "f2555315-5463-4661-b79a-cbd7eb7cf18d",
   "metadata": {},
   "outputs": [],
   "source": [
    "%%capture\n",
    "!pip install pandas\n",
    "!pip install spacy # for auto labeling \n",
    "!python -m spacy download en_core_web_sm"
   ]
  },
  {
   "cell_type": "code",
   "execution_count": 2,
   "id": "a80eb6b4-3464-499e-9290-afb1a3b3913e",
   "metadata": {},
   "outputs": [
    {
     "name": "stdout",
     "output_type": "stream",
     "text": [
      "Total articles available: 105375\n"
     ]
    },
    {
     "data": {
      "text/html": [
       "<div>\n",
       "<style scoped>\n",
       "    .dataframe tbody tr th:only-of-type {\n",
       "        vertical-align: middle;\n",
       "    }\n",
       "\n",
       "    .dataframe tbody tr th {\n",
       "        vertical-align: top;\n",
       "    }\n",
       "\n",
       "    .dataframe thead th {\n",
       "        text-align: right;\n",
       "    }\n",
       "</style>\n",
       "<table border=\"1\" class=\"dataframe\">\n",
       "  <thead>\n",
       "    <tr style=\"text-align: right;\">\n",
       "      <th></th>\n",
       "      <th>article_id</th>\n",
       "      <th>source_id</th>\n",
       "      <th>source_name</th>\n",
       "      <th>author</th>\n",
       "      <th>title</th>\n",
       "      <th>description</th>\n",
       "      <th>url</th>\n",
       "      <th>url_to_image</th>\n",
       "      <th>published_at</th>\n",
       "      <th>content</th>\n",
       "      <th>category</th>\n",
       "      <th>full_content</th>\n",
       "    </tr>\n",
       "  </thead>\n",
       "  <tbody>\n",
       "    <tr>\n",
       "      <th>43325</th>\n",
       "      <td>63642</td>\n",
       "      <td>NaN</td>\n",
       "      <td>The Week Magazine</td>\n",
       "      <td>theweekonlineeditorsuk@futurenet.com (Keumars ...</td>\n",
       "      <td>Young teen wins top science prize for soap tha...</td>\n",
       "      <td>Memory of Ethiopian workers out in the sun ins...</td>\n",
       "      <td>https://theweek.com/science/young-teen-wins-to...</td>\n",
       "      <td>https://cdn.mos.cms.futurecdn.net/zAhQwHDgPJoS...</td>\n",
       "      <td>2023-10-27 09:38:42.000000</td>\n",
       "      <td>A 14-year-old boy has been named \"America's to...</td>\n",
       "      <td>Ethiopia</td>\n",
       "      <td>NaN</td>\n",
       "    </tr>\n",
       "    <tr>\n",
       "      <th>19051</th>\n",
       "      <td>13370</td>\n",
       "      <td>NaN</td>\n",
       "      <td>Boing Boing</td>\n",
       "      <td>Rob Beschizza</td>\n",
       "      <td>Vehicular homicide suspect who \"reeked of alco...</td>\n",
       "      <td>Ting Ye, 26, \"reeked of alcohol\" when she was ...</td>\n",
       "      <td>https://boingboing.net/2023/10/30/vehicular-ho...</td>\n",
       "      <td>https://i0.wp.com/boingboing.net/wp-content/up...</td>\n",
       "      <td>2023-10-30 12:09:58.000000</td>\n",
       "      <td>Ting Ye, 26, \"reeked of alcohol\" when she was ...</td>\n",
       "      <td>United States</td>\n",
       "      <td>Ting Ye, 26, \"reeked of alcohol\" when she was ...</td>\n",
       "    </tr>\n",
       "    <tr>\n",
       "      <th>45314</th>\n",
       "      <td>69158</td>\n",
       "      <td>NaN</td>\n",
       "      <td>Eater</td>\n",
       "      <td>Martha Cheng</td>\n",
       "      <td>The Pastry Chefs Defining Restaurant Dessert R...</td>\n",
       "      <td>Hannah Ziskin, Tavel Bristol-Jospeh, Kelly Nam...</td>\n",
       "      <td>https://www.eater.com/23919112/restaurant-past...</td>\n",
       "      <td>https://cdn.vox-cdn.com/thumbor/EdI5vEOW1_S11V...</td>\n",
       "      <td>2023-10-18 19:09:20.000000</td>\n",
       "      <td>Kelly Nam plates a dessert at New York City’s ...</td>\n",
       "      <td>Guyana</td>\n",
       "      <td>NaN</td>\n",
       "    </tr>\n",
       "    <tr>\n",
       "      <th>5671</th>\n",
       "      <td>97723</td>\n",
       "      <td>NaN</td>\n",
       "      <td>Boing Boing</td>\n",
       "      <td>Jennifer Sandlin</td>\n",
       "      <td>Flula Borg hilarious deconstructs that weird \"...</td>\n",
       "      <td>Ok, one last Halloween post and I'll abandon t...</td>\n",
       "      <td>https://boingboing.net/2023/11/02/flula-borg-h...</td>\n",
       "      <td>https://i0.wp.com/boingboing.net/wp-content/up...</td>\n",
       "      <td>2023-11-02 09:02:40.000000</td>\n",
       "      <td>Ok, one last Halloween post and I'll abandon t...</td>\n",
       "      <td>History</td>\n",
       "      <td>Ok, one last Halloween post and I'll abandon t...</td>\n",
       "    </tr>\n",
       "    <tr>\n",
       "      <th>78957</th>\n",
       "      <td>84216</td>\n",
       "      <td>NaN</td>\n",
       "      <td>Bangkok Post</td>\n",
       "      <td>Prasit Tangprasert</td>\n",
       "      <td>Korat zoo welcomes new member - sun bear</td>\n",
       "      <td>Nakhon Ratchasima Zoo has a new member - a one...</td>\n",
       "      <td>https://www.bangkokpost.com/thailand/general/2...</td>\n",
       "      <td>https://static.bangkokpost.com/media/content/2...</td>\n",
       "      <td>2023-10-05 03:50:00.000000</td>\n",
       "      <td>Nakhon Ratchasima Zoo has a new member - a one...</td>\n",
       "      <td>Myanmar</td>\n",
       "      <td>NaN</td>\n",
       "    </tr>\n",
       "  </tbody>\n",
       "</table>\n",
       "</div>"
      ],
      "text/plain": [
       "       article_id source_id        source_name  \\\n",
       "43325       63642       NaN  The Week Magazine   \n",
       "19051       13370       NaN        Boing Boing   \n",
       "45314       69158       NaN              Eater   \n",
       "5671        97723       NaN        Boing Boing   \n",
       "78957       84216       NaN       Bangkok Post   \n",
       "\n",
       "                                                  author  \\\n",
       "43325  theweekonlineeditorsuk@futurenet.com (Keumars ...   \n",
       "19051                                      Rob Beschizza   \n",
       "45314                                       Martha Cheng   \n",
       "5671                                    Jennifer Sandlin   \n",
       "78957                                 Prasit Tangprasert   \n",
       "\n",
       "                                                   title  \\\n",
       "43325  Young teen wins top science prize for soap tha...   \n",
       "19051  Vehicular homicide suspect who \"reeked of alco...   \n",
       "45314  The Pastry Chefs Defining Restaurant Dessert R...   \n",
       "5671   Flula Borg hilarious deconstructs that weird \"...   \n",
       "78957           Korat zoo welcomes new member - sun bear   \n",
       "\n",
       "                                             description  \\\n",
       "43325  Memory of Ethiopian workers out in the sun ins...   \n",
       "19051  Ting Ye, 26, \"reeked of alcohol\" when she was ...   \n",
       "45314  Hannah Ziskin, Tavel Bristol-Jospeh, Kelly Nam...   \n",
       "5671   Ok, one last Halloween post and I'll abandon t...   \n",
       "78957  Nakhon Ratchasima Zoo has a new member - a one...   \n",
       "\n",
       "                                                     url  \\\n",
       "43325  https://theweek.com/science/young-teen-wins-to...   \n",
       "19051  https://boingboing.net/2023/10/30/vehicular-ho...   \n",
       "45314  https://www.eater.com/23919112/restaurant-past...   \n",
       "5671   https://boingboing.net/2023/11/02/flula-borg-h...   \n",
       "78957  https://www.bangkokpost.com/thailand/general/2...   \n",
       "\n",
       "                                            url_to_image  \\\n",
       "43325  https://cdn.mos.cms.futurecdn.net/zAhQwHDgPJoS...   \n",
       "19051  https://i0.wp.com/boingboing.net/wp-content/up...   \n",
       "45314  https://cdn.vox-cdn.com/thumbor/EdI5vEOW1_S11V...   \n",
       "5671   https://i0.wp.com/boingboing.net/wp-content/up...   \n",
       "78957  https://static.bangkokpost.com/media/content/2...   \n",
       "\n",
       "                     published_at  \\\n",
       "43325  2023-10-27 09:38:42.000000   \n",
       "19051  2023-10-30 12:09:58.000000   \n",
       "45314  2023-10-18 19:09:20.000000   \n",
       "5671   2023-11-02 09:02:40.000000   \n",
       "78957  2023-10-05 03:50:00.000000   \n",
       "\n",
       "                                                 content       category  \\\n",
       "43325  A 14-year-old boy has been named \"America's to...       Ethiopia   \n",
       "19051  Ting Ye, 26, \"reeked of alcohol\" when she was ...  United States   \n",
       "45314  Kelly Nam plates a dessert at New York City’s ...         Guyana   \n",
       "5671   Ok, one last Halloween post and I'll abandon t...        History   \n",
       "78957  Nakhon Ratchasima Zoo has a new member - a one...        Myanmar   \n",
       "\n",
       "                                            full_content  \n",
       "43325                                                NaN  \n",
       "19051  Ting Ye, 26, \"reeked of alcohol\" when she was ...  \n",
       "45314                                                NaN  \n",
       "5671   Ok, one last Halloween post and I'll abandon t...  \n",
       "78957                                                NaN  "
      ]
     },
     "execution_count": 2,
     "metadata": {},
     "output_type": "execute_result"
    }
   ],
   "source": [
    "import pandas as pd\n",
    "\n",
    "# Load the dataset\n",
    "df = pd.read_csv('/mnt/f/datasets/data.csv')\n",
    "\n",
    "# Display the total number of articles\n",
    "print(f\"Total articles available: {len(df)}\")\n",
    "\n",
    "# Sample 200 articles randomly\n",
    "sampled_df = df.sample(n=200, random_state=42)\n",
    "\n",
    "# Display the first few entries\n",
    "sampled_df.head() "
   ]
  },
  {
   "cell_type": "code",
   "execution_count": 3,
   "id": "cbe1bd95-a3c8-43c9-ac79-a6cac852f307",
   "metadata": {},
   "outputs": [
    {
     "name": "stdout",
     "output_type": "stream",
     "text": [
      "Index(['article_id', 'source_id', 'source_name', 'author', 'title',\n",
      "       'description', 'url', 'url_to_image', 'published_at', 'content',\n",
      "       'category', 'full_content'],\n",
      "      dtype='object')\n"
     ]
    }
   ],
   "source": [
    "# NER - Named Entity Recognition \n",
    "print(sampled_df.columns)"
   ]
  },
  {
   "cell_type": "code",
   "execution_count": 4,
   "id": "b7cf70e4-ce26-406f-837c-e76141d89519",
   "metadata": {},
   "outputs": [
    {
     "data": {
      "text/plain": [
       "title           200\n",
       "description     200\n",
       "content         200\n",
       "full_content    114\n",
       "dtype: int64"
      ]
     },
     "execution_count": 4,
     "metadata": {},
     "output_type": "execute_result"
    }
   ],
   "source": [
    "# how many entries are available in full_content? 114  \n",
    "sampled_df[['title', 'description', 'content', 'full_content']].notnull().sum()"
   ]
  },
  {
   "cell_type": "code",
   "execution_count": 5,
   "id": "e764999b-15e6-44b4-bb26-7ca47652e430",
   "metadata": {},
   "outputs": [],
   "source": [
    "# use 114 full_content entries for now \n",
    "# use spacy for auto labeling \n",
    "import spacy\n",
    "\n",
    "# Load English NER model\n",
    "nlp = spacy.load(\"en_core_web_sm\")\n",
    "\n",
    "# Apply NER to each article\n",
    "def extract_ner(text):\n",
    "    doc = nlp(text)\n",
    "    return [(ent.text, ent.start_char, ent.end_char, ent.label_) for ent in doc.ents]\n",
    "\n",
    "# Filter non-null content\n",
    "valid_articles = sampled_df[sampled_df['full_content'].notnull()]['full_content']\n",
    "\n",
    "# Extract entities from each article\n",
    "labeled_data = []\n",
    "for text in valid_articles:\n",
    "    entities = extract_ner(text)\n",
    "    labeled_data.append((text, {\"entities\": [(start, end, label) for _, start, end, label in entities]}))\n"
   ]
  },
  {
   "cell_type": "code",
   "execution_count": 6,
   "id": "d92a52b0-14dd-4a8e-8dc1-ee91c251396b",
   "metadata": {},
   "outputs": [
    {
     "name": "stdout",
     "output_type": "stream",
     "text": [
      "Text snippet: Ting Ye, 26, \"reeked of alcohol\" when she was pulled from the driver's seat of a 100MPH rollover crash that killed her passenger, Yabao Liu. While police in Washington state twiddled their thumbs, she\n",
      "Entities: [(0, 7, 'PERSON'), (9, 11, 'DATE'), (81, 87, 'CARDINAL'), (130, 139, 'PERSON'), (157, 167, 'GPE'), (220, 245, 'ORG'), (249, 256, 'GPE'), (289, 294, 'GPE'), (296, 298, 'PERSON'), (351, 386, 'ORG'), (396, 399, 'ORG'), (538, 548, 'PERSON'), (554, 569, 'ORG'), (576, 591, 'ORG'), (601, 603, 'PERSON'), (608, 611, 'PERSON'), (621, 626, 'GPE'), (628, 630, 'PERSON'), (671, 676, 'PERSON'), (733, 738, 'GPE'), (743, 760, 'GPE'), (855, 868, 'PERSON'), (880, 890, 'PERSON'), (902, 913, 'PERSON'), (925, 934, 'PERSON')]\n",
      "\n",
      "Text snippet: Ok, one last Halloween post and I'll abandon the topic until next year. As you're munching on your candy haul, watch this funnyvideocreated by German actor, comedian, and musicianFlula Borg. He begins\n",
      "Entities: [(4, 7, 'CARDINAL'), (8, 22, 'DATE'), (61, 70, 'DATE'), (143, 149, 'NORP'), (171, 189, 'PERSON'), (214, 223, 'DATE'), (320, 331, 'PERSON'), (372, 376, 'PERSON'), (427, 430, 'CARDINAL'), (645, 665, 'ORG'), (687, 696, 'DATE'), (715, 728, 'DATE'), (925, 946, 'PERSON'), (1032, 1037, 'ORDINAL'), (1050, 1065, 'DATE'), (1080, 1088, 'NORP'), (1126, 1139, 'DATE'), (1161, 1176, 'GPE'), (1206, 1215, 'DATE'), (1292, 1305, 'DATE'), (1362, 1378, 'WORK_OF_ART'), (1437, 1444, 'GPE'), (1528, 1541, 'PERSON'), (1575, 1589, 'WORK_OF_ART'), (1709, 1718, 'DATE')]\n",
      "\n",
      "Text snippet: SAG-AFTRA said it has responded toHollywood studios’ “last, best & final offer”on Mondayas pressure ramps up to reach a deal ending the industry-freezing strike. The actors’ union said in a message to\n",
      "Entities: [(0, 9, 'PERSON'), (32, 43, 'ORG'), (73, 90, 'ORG'), (263, 266, 'CARDINAL'), (324, 326, 'GPE'), (482, 490, 'DATE'), (557, 612, 'ORG'), (641, 651, 'WORK_OF_ART'), (657, 668, 'PERSON'), (693, 699, 'ORG'), (701, 708, 'GPE'), (710, 722, 'ORG'), (728, 750, 'ORG'), (752, 774, 'ORG'), (800, 803, 'ORG'), (856, 871, 'DATE'), (948, 959, 'DATE'), (967, 970, 'CARDINAL'), (1042, 1070, 'DATE'), (1072, 1081, 'PERSON'), (1100, 1113, 'CARDINAL'), (1167, 1174, 'DATE'), (1450, 1478, 'ORG'), (1512, 1521, 'GPE'), (1548, 1561, 'DATE'), (1591, 1593, 'GPE'), (1741, 1746, 'CARDINAL'), (1747, 1756, 'PERSON'), (1959, 1962, 'ORG'), (1965, 1978, 'PERSON')]\n",
      "\n"
     ]
    }
   ],
   "source": [
    "# labeled examples to verify structure \n",
    "for i in range(3):  # Show first 3 samples\n",
    "    text, annotations = labeled_data[i]\n",
    "    print(\"Text snippet:\", text[:200])  # Print first 200 characters\n",
    "    print(\"Entities:\", annotations[\"entities\"])\n",
    "    print()\n"
   ]
  },
  {
   "cell_type": "code",
   "execution_count": 8,
   "id": "d920df14-b631-4cae-83d9-4fa0e54d9979",
   "metadata": {},
   "outputs": [
    {
     "name": "stdout",
     "output_type": "stream",
     "text": [
      "/home/max/krag-env/lib/python3.11/site-packages/IPython/__init__.py\n"
     ]
    }
   ],
   "source": [
    "import IPython\n",
    "print(IPython.__file__)\n"
   ]
  },
  {
   "cell_type": "code",
   "execution_count": 10,
   "id": "a09042d7-b09c-4f61-8184-26b1081f9fec",
   "metadata": {},
   "outputs": [
    {
     "data": {
      "text/html": [
       "<div class=\"entities\" style=\"line-height: 2.5; direction: ltr\">\n",
       "<mark class=\"entity\" style=\"background: #7aecec; padding: 0.45em 0.6em; margin: 0 0.25em; line-height: 1; border-radius: 0.35em;\">\n",
       "    Apple\n",
       "    <span style=\"font-size: 0.8em; font-weight: bold; line-height: 1; border-radius: 0.35em; vertical-align: middle; margin-left: 0.5rem\">ORG</span>\n",
       "</mark>\n",
       " is looking at buying \n",
       "<mark class=\"entity\" style=\"background: #feca74; padding: 0.45em 0.6em; margin: 0 0.25em; line-height: 1; border-radius: 0.35em;\">\n",
       "    U.K.\n",
       "    <span style=\"font-size: 0.8em; font-weight: bold; line-height: 1; border-radius: 0.35em; vertical-align: middle; margin-left: 0.5rem\">GPE</span>\n",
       "</mark>\n",
       " startup for \n",
       "<mark class=\"entity\" style=\"background: #e4e7d2; padding: 0.45em 0.6em; margin: 0 0.25em; line-height: 1; border-radius: 0.35em;\">\n",
       "    $1 billion\n",
       "    <span style=\"font-size: 0.8em; font-weight: bold; line-height: 1; border-radius: 0.35em; vertical-align: middle; margin-left: 0.5rem\">MONEY</span>\n",
       "</mark>\n",
       "</div>"
      ],
      "text/plain": [
       "<IPython.core.display.HTML object>"
      ]
     },
     "metadata": {},
     "output_type": "display_data"
    }
   ],
   "source": [
    "from IPython.display import HTML, display\n",
    "from spacy import displacy\n",
    "import spacy\n",
    "\n",
    "nlp = spacy.load(\"en_core_web_sm\")\n",
    "doc = nlp(\"Apple is looking at buying U.K. startup for $1 billion\")\n",
    "\n",
    "# Get HTML manually, disable Jupyter output integration\n",
    "html = displacy.render(doc, style=\"ent\", jupyter=False)\n",
    "display(HTML(html))\n",
    "\n",
    "\n"
   ]
  },
  {
   "cell_type": "code",
   "execution_count": null,
   "id": "f7914607-41ab-46d4-810c-90f039d7e5b8",
   "metadata": {},
   "outputs": [],
   "source": []
  }
 ],
 "metadata": {
  "kernelspec": {
   "display_name": "Python 3 (ipykernel)",
   "language": "python",
   "name": "python3"
  },
  "language_info": {
   "codemirror_mode": {
    "name": "ipython",
    "version": 3
   },
   "file_extension": ".py",
   "mimetype": "text/x-python",
   "name": "python",
   "nbconvert_exporter": "python",
   "pygments_lexer": "ipython3",
   "version": "3.11.12"
  }
 },
 "nbformat": 4,
 "nbformat_minor": 5
}
